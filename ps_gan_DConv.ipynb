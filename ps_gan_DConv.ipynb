{
  "nbformat": 4,
  "nbformat_minor": 0,
  "metadata": {
    "kernelspec": {
      "display_name": "Python 3",
      "language": "python",
      "name": "python3"
    },
    "language_info": {
      "codemirror_mode": {
        "name": "ipython",
        "version": 3
      },
      "file_extension": ".py",
      "mimetype": "text/x-python",
      "name": "python",
      "nbconvert_exporter": "python",
      "pygments_lexer": "ipython3",
      "version": "3.7.4"
    },
    "colab": {
      "name": "ps_gan_DConv.ipynb",
      "provenance": [],
      "collapsed_sections": [],
      "include_colab_link": true
    },
    "accelerator": "GPU"
  },
  "cells": [
    {
      "cell_type": "markdown",
      "metadata": {
        "id": "view-in-github",
        "colab_type": "text"
      },
      "source": [
        "<a href=\"https://colab.research.google.com/github/prajvalsudhir/DIGIT-GENERATOR/blob/master/ps_gan_DConv.ipynb\" target=\"_parent\"><img src=\"https://colab.research.google.com/assets/colab-badge.svg\" alt=\"Open In Colab\"/></a>"
      ]
    },
    {
      "cell_type": "code",
      "metadata": {
        "id": "-W4x7VJJydgI",
        "colab_type": "code",
        "colab": {}
      },
      "source": [
        "import numpy as np\n",
        "import pandas as pd\n",
        "import matplotlib.pyplot as plt\n",
        "import seaborn as sns"
      ],
      "execution_count": 0,
      "outputs": []
    },
    {
      "cell_type": "code",
      "metadata": {
        "id": "Q8XUYBCgydgP",
        "colab_type": "code",
        "colab": {}
      },
      "source": [
        "#import the mnist dataset\n",
        "from tensorflow.keras.datasets import mnist"
      ],
      "execution_count": 0,
      "outputs": []
    },
    {
      "cell_type": "code",
      "metadata": {
        "id": "g3lVBXdQydgU",
        "colab_type": "code",
        "colab": {}
      },
      "source": [
        "(X_train,y_train),(X_test,y_test) =  mnist.load_data()"
      ],
      "execution_count": 0,
      "outputs": []
    },
    {
      "cell_type": "code",
      "metadata": {
        "id": "seIvOcreydgZ",
        "colab_type": "code",
        "colab": {
          "base_uri": "https://localhost:8080/",
          "height": 34
        },
        "outputId": "b681a1c6-34ae-4c61-b16d-27ea8370b512"
      },
      "source": [
        "X_train.shape"
      ],
      "execution_count": 70,
      "outputs": [
        {
          "output_type": "execute_result",
          "data": {
            "text/plain": [
              "(60000, 28, 28)"
            ]
          },
          "metadata": {
            "tags": []
          },
          "execution_count": 70
        }
      ]
    },
    {
      "cell_type": "code",
      "metadata": {
        "id": "A9q_X870ydgg",
        "colab_type": "code",
        "colab": {
          "base_uri": "https://localhost:8080/",
          "height": 1000
        },
        "outputId": "c66cd6e8-0ca7-46b1-cf47-d4aa731b3ced"
      },
      "source": [
        "X_train[0]"
      ],
      "execution_count": 71,
      "outputs": [
        {
          "output_type": "execute_result",
          "data": {
            "text/plain": [
              "array([[  0,   0,   0,   0,   0,   0,   0,   0,   0,   0,   0,   0,   0,\n",
              "          0,   0,   0,   0,   0,   0,   0,   0,   0,   0,   0,   0,   0,\n",
              "          0,   0],\n",
              "       [  0,   0,   0,   0,   0,   0,   0,   0,   0,   0,   0,   0,   0,\n",
              "          0,   0,   0,   0,   0,   0,   0,   0,   0,   0,   0,   0,   0,\n",
              "          0,   0],\n",
              "       [  0,   0,   0,   0,   0,   0,   0,   0,   0,   0,   0,   0,   0,\n",
              "          0,   0,   0,   0,   0,   0,   0,   0,   0,   0,   0,   0,   0,\n",
              "          0,   0],\n",
              "       [  0,   0,   0,   0,   0,   0,   0,   0,   0,   0,   0,   0,   0,\n",
              "          0,   0,   0,   0,   0,   0,   0,   0,   0,   0,   0,   0,   0,\n",
              "          0,   0],\n",
              "       [  0,   0,   0,   0,   0,   0,   0,   0,   0,   0,   0,   0,   0,\n",
              "          0,   0,   0,   0,   0,   0,   0,   0,   0,   0,   0,   0,   0,\n",
              "          0,   0],\n",
              "       [  0,   0,   0,   0,   0,   0,   0,   0,   0,   0,   0,   0,   3,\n",
              "         18,  18,  18, 126, 136, 175,  26, 166, 255, 247, 127,   0,   0,\n",
              "          0,   0],\n",
              "       [  0,   0,   0,   0,   0,   0,   0,   0,  30,  36,  94, 154, 170,\n",
              "        253, 253, 253, 253, 253, 225, 172, 253, 242, 195,  64,   0,   0,\n",
              "          0,   0],\n",
              "       [  0,   0,   0,   0,   0,   0,   0,  49, 238, 253, 253, 253, 253,\n",
              "        253, 253, 253, 253, 251,  93,  82,  82,  56,  39,   0,   0,   0,\n",
              "          0,   0],\n",
              "       [  0,   0,   0,   0,   0,   0,   0,  18, 219, 253, 253, 253, 253,\n",
              "        253, 198, 182, 247, 241,   0,   0,   0,   0,   0,   0,   0,   0,\n",
              "          0,   0],\n",
              "       [  0,   0,   0,   0,   0,   0,   0,   0,  80, 156, 107, 253, 253,\n",
              "        205,  11,   0,  43, 154,   0,   0,   0,   0,   0,   0,   0,   0,\n",
              "          0,   0],\n",
              "       [  0,   0,   0,   0,   0,   0,   0,   0,   0,  14,   1, 154, 253,\n",
              "         90,   0,   0,   0,   0,   0,   0,   0,   0,   0,   0,   0,   0,\n",
              "          0,   0],\n",
              "       [  0,   0,   0,   0,   0,   0,   0,   0,   0,   0,   0, 139, 253,\n",
              "        190,   2,   0,   0,   0,   0,   0,   0,   0,   0,   0,   0,   0,\n",
              "          0,   0],\n",
              "       [  0,   0,   0,   0,   0,   0,   0,   0,   0,   0,   0,  11, 190,\n",
              "        253,  70,   0,   0,   0,   0,   0,   0,   0,   0,   0,   0,   0,\n",
              "          0,   0],\n",
              "       [  0,   0,   0,   0,   0,   0,   0,   0,   0,   0,   0,   0,  35,\n",
              "        241, 225, 160, 108,   1,   0,   0,   0,   0,   0,   0,   0,   0,\n",
              "          0,   0],\n",
              "       [  0,   0,   0,   0,   0,   0,   0,   0,   0,   0,   0,   0,   0,\n",
              "         81, 240, 253, 253, 119,  25,   0,   0,   0,   0,   0,   0,   0,\n",
              "          0,   0],\n",
              "       [  0,   0,   0,   0,   0,   0,   0,   0,   0,   0,   0,   0,   0,\n",
              "          0,  45, 186, 253, 253, 150,  27,   0,   0,   0,   0,   0,   0,\n",
              "          0,   0],\n",
              "       [  0,   0,   0,   0,   0,   0,   0,   0,   0,   0,   0,   0,   0,\n",
              "          0,   0,  16,  93, 252, 253, 187,   0,   0,   0,   0,   0,   0,\n",
              "          0,   0],\n",
              "       [  0,   0,   0,   0,   0,   0,   0,   0,   0,   0,   0,   0,   0,\n",
              "          0,   0,   0,   0, 249, 253, 249,  64,   0,   0,   0,   0,   0,\n",
              "          0,   0],\n",
              "       [  0,   0,   0,   0,   0,   0,   0,   0,   0,   0,   0,   0,   0,\n",
              "          0,  46, 130, 183, 253, 253, 207,   2,   0,   0,   0,   0,   0,\n",
              "          0,   0],\n",
              "       [  0,   0,   0,   0,   0,   0,   0,   0,   0,   0,   0,   0,  39,\n",
              "        148, 229, 253, 253, 253, 250, 182,   0,   0,   0,   0,   0,   0,\n",
              "          0,   0],\n",
              "       [  0,   0,   0,   0,   0,   0,   0,   0,   0,   0,  24, 114, 221,\n",
              "        253, 253, 253, 253, 201,  78,   0,   0,   0,   0,   0,   0,   0,\n",
              "          0,   0],\n",
              "       [  0,   0,   0,   0,   0,   0,   0,   0,  23,  66, 213, 253, 253,\n",
              "        253, 253, 198,  81,   2,   0,   0,   0,   0,   0,   0,   0,   0,\n",
              "          0,   0],\n",
              "       [  0,   0,   0,   0,   0,   0,  18, 171, 219, 253, 253, 253, 253,\n",
              "        195,  80,   9,   0,   0,   0,   0,   0,   0,   0,   0,   0,   0,\n",
              "          0,   0],\n",
              "       [  0,   0,   0,   0,  55, 172, 226, 253, 253, 253, 253, 244, 133,\n",
              "         11,   0,   0,   0,   0,   0,   0,   0,   0,   0,   0,   0,   0,\n",
              "          0,   0],\n",
              "       [  0,   0,   0,   0, 136, 253, 253, 253, 212, 135, 132,  16,   0,\n",
              "          0,   0,   0,   0,   0,   0,   0,   0,   0,   0,   0,   0,   0,\n",
              "          0,   0],\n",
              "       [  0,   0,   0,   0,   0,   0,   0,   0,   0,   0,   0,   0,   0,\n",
              "          0,   0,   0,   0,   0,   0,   0,   0,   0,   0,   0,   0,   0,\n",
              "          0,   0],\n",
              "       [  0,   0,   0,   0,   0,   0,   0,   0,   0,   0,   0,   0,   0,\n",
              "          0,   0,   0,   0,   0,   0,   0,   0,   0,   0,   0,   0,   0,\n",
              "          0,   0],\n",
              "       [  0,   0,   0,   0,   0,   0,   0,   0,   0,   0,   0,   0,   0,\n",
              "          0,   0,   0,   0,   0,   0,   0,   0,   0,   0,   0,   0,   0,\n",
              "          0,   0]], dtype=uint8)"
            ]
          },
          "metadata": {
            "tags": []
          },
          "execution_count": 71
        }
      ]
    },
    {
      "cell_type": "code",
      "metadata": {
        "id": "uvKak2vmydgj",
        "colab_type": "code",
        "colab": {
          "base_uri": "https://localhost:8080/",
          "height": 282
        },
        "outputId": "f4b499b8-5b5b-4d3a-c33c-df815992e7fd"
      },
      "source": [
        "plt.imshow(X_train[0])"
      ],
      "execution_count": 72,
      "outputs": [
        {
          "output_type": "execute_result",
          "data": {
            "text/plain": [
              "<matplotlib.image.AxesImage at 0x7fe37eeeb6a0>"
            ]
          },
          "metadata": {
            "tags": []
          },
          "execution_count": 72
        },
        {
          "output_type": "display_data",
          "data": {
            "image/png": "[encoded data removed]",
            "text/plain": [
              "<Figure size 432x288 with 1 Axes>"
            ]
          },
          "metadata": {
            "tags": [],
            "needs_background": "light"
          }
        }
      ]
    },
    {
      "cell_type": "code",
      "metadata": {
        "id": "SMv7RMV4ydgo",
        "colab_type": "code",
        "colab": {
          "base_uri": "https://localhost:8080/",
          "height": 34
        },
        "outputId": "5769b047-dfe3-4335-9359-3884859a6491"
      },
      "source": [
        "y_train"
      ],
      "execution_count": 73,
      "outputs": [
        {
          "output_type": "execute_result",
          "data": {
            "text/plain": [
              "array([5, 0, 4, ..., 5, 6, 8], dtype=uint8)"
            ]
          },
          "metadata": {
            "tags": []
          },
          "execution_count": 73
        }
      ]
    },
    {
      "cell_type": "code",
      "metadata": {
        "id": "CPzXfZmdydgu",
        "colab_type": "code",
        "colab": {}
      },
      "source": [
        "#for convoultion layers scale the reshape the data"
      ],
      "execution_count": 0,
      "outputs": []
    },
    {
      "cell_type": "code",
      "metadata": {
        "id": "sDmcVVgXydgz",
        "colab_type": "code",
        "colab": {}
      },
      "source": [
        "X_train = X_train/255"
      ],
      "execution_count": 0,
      "outputs": []
    },
    {
      "cell_type": "code",
      "metadata": {
        "id": "PNuY5sdzydg2",
        "colab_type": "code",
        "colab": {}
      },
      "source": [
        "#Generator will use tanh activation function for the last layer, so we want to reshape X_train to be within -1 to 1 limits.\n",
        "X_train = (X_train.reshape(-1,28,28,1) *2) - 1"
      ],
      "execution_count": 0,
      "outputs": []
    },
    {
      "cell_type": "code",
      "metadata": {
        "id": "Isdchr0nydg6",
        "colab_type": "code",
        "colab": {
          "base_uri": "https://localhost:8080/",
          "height": 34
        },
        "outputId": "138cb155-4d2b-4194-bbc2-b27db9a4b619"
      },
      "source": [
        "X_train.min()"
      ],
      "execution_count": 77,
      "outputs": [
        {
          "output_type": "execute_result",
          "data": {
            "text/plain": [
              "-1.0"
            ]
          },
          "metadata": {
            "tags": []
          },
          "execution_count": 77
        }
      ]
    },
    {
      "cell_type": "code",
      "metadata": {
        "id": "WWnrWy26ydg9",
        "colab_type": "code",
        "colab": {
          "base_uri": "https://localhost:8080/",
          "height": 34
        },
        "outputId": "e5cfc79f-db5b-48ab-f36f-d96c5ff4275c"
      },
      "source": [
        "X_train.max()"
      ],
      "execution_count": 78,
      "outputs": [
        {
          "output_type": "execute_result",
          "data": {
            "text/plain": [
              "1.0"
            ]
          },
          "metadata": {
            "tags": []
          },
          "execution_count": 78
        }
      ]
    },
    {
      "cell_type": "code",
      "metadata": {
        "id": "65zosAjJydhC",
        "colab_type": "code",
        "colab": {}
      },
      "source": [
        ""
      ],
      "execution_count": 0,
      "outputs": []
    },
    {
      "cell_type": "code",
      "metadata": {
        "id": "Ya2XFJ10ydhH",
        "colab_type": "code",
        "colab": {}
      },
      "source": [
        "#selecting only zeros from the mnist dataset so that its easier to generate the number"
      ],
      "execution_count": 0,
      "outputs": []
    },
    {
      "cell_type": "code",
      "metadata": {
        "id": "pxUS3stiydhK",
        "colab_type": "code",
        "colab": {
          "base_uri": "https://localhost:8080/",
          "height": 34
        },
        "outputId": "c2334fad-afe5-4ddd-b89f-489dc9f29fa0"
      },
      "source": [
        "y_train == 0"
      ],
      "execution_count": 80,
      "outputs": [
        {
          "output_type": "execute_result",
          "data": {
            "text/plain": [
              "array([False,  True, False, ..., False, False, False])"
            ]
          },
          "metadata": {
            "tags": []
          },
          "execution_count": 80
        }
      ]
    },
    {
      "cell_type": "code",
      "metadata": {
        "id": "HHtUR0P1ydhN",
        "colab_type": "code",
        "colab": {}
      },
      "source": [
        "only_zeros = X_train[y_train == 0 ]"
      ],
      "execution_count": 0,
      "outputs": []
    },
    {
      "cell_type": "code",
      "metadata": {
        "id": "p_0VpyrIydhQ",
        "colab_type": "code",
        "colab": {}
      },
      "source": [
        ""
      ],
      "execution_count": 0,
      "outputs": []
    },
    {
      "cell_type": "code",
      "metadata": {
        "id": "i1RNfzRnydhT",
        "colab_type": "code",
        "colab": {
          "base_uri": "https://localhost:8080/",
          "height": 34
        },
        "outputId": "7ac587b7-f739-4d09-e321-0d29c8455cb0"
      },
      "source": [
        "only_zeros.shape"
      ],
      "execution_count": 82,
      "outputs": [
        {
          "output_type": "execute_result",
          "data": {
            "text/plain": [
              "(5923, 28, 28, 1)"
            ]
          },
          "metadata": {
            "tags": []
          },
          "execution_count": 82
        }
      ]
    },
    {
      "cell_type": "code",
      "metadata": {
        "id": "zy1VeSLWydhW",
        "colab_type": "code",
        "colab": {}
      },
      "source": [
        ""
      ],
      "execution_count": 0,
      "outputs": []
    },
    {
      "cell_type": "code",
      "metadata": {
        "id": "zAQmBJrGydhY",
        "colab_type": "code",
        "colab": {}
      },
      "source": [
        "#building the 2 models for the GAN ie Discriminator and Generator"
      ],
      "execution_count": 0,
      "outputs": []
    },
    {
      "cell_type": "code",
      "metadata": {
        "id": "ZdWOaOZxydha",
        "colab_type": "code",
        "colab": {}
      },
      "source": [
        "from tensorflow.keras.models import Sequential\n",
        "from tensorflow.keras.layers import Dense,Flatten,Reshape,Conv2D,Conv2DTranspose,Dropout,BatchNormalization,LeakyReLU\n",
        "import tensorflow as tf"
      ],
      "execution_count": 0,
      "outputs": []
    },
    {
      "cell_type": "code",
      "metadata": {
        "id": "FMAw1kYKydhc",
        "colab_type": "code",
        "colab": {}
      },
      "source": [
        "# Discriminator model\n",
        "discriminator = Sequential()"
      ],
      "execution_count": 0,
      "outputs": []
    },
    {
      "cell_type": "code",
      "metadata": {
        "id": "1qweie4Kydhe",
        "colab_type": "code",
        "colab": {}
      },
      "source": [
        "discriminator.add(Conv2D(64,kernel_size=5,input_shape=[28,28,1],strides=2,activation=LeakyReLU(0.3),padding='same'))\n",
        "discriminator.add(Dropout(0.5))\n",
        "discriminator.add(Conv2D(64,kernel_size=5,input_shape=[28,28,1],strides=2,activation=LeakyReLU(0.3),padding='same'))\n",
        "discriminator.add(Dropout(0.5))\n",
        "discriminator.add(Flatten())\n",
        "discriminator.add(Dense(1,activation='sigmoid'))\n",
        "\n",
        "#compile the model with loss='binary crossentropy as it is basically checking whether the image generated is real(1) or fake(0) '\n",
        "discriminator.compile(loss='binary_crossentropy',optimizer='adam')"
      ],
      "execution_count": 0,
      "outputs": []
    },
    {
      "cell_type": "code",
      "metadata": {
        "id": "PZuReScWydhg",
        "colab_type": "code",
        "colab": {}
      },
      "source": [
        "#generator model\n",
        "generator = Sequential()"
      ],
      "execution_count": 0,
      "outputs": []
    },
    {
      "cell_type": "code",
      "metadata": {
        "id": "hj5hJdeJydhi",
        "colab_type": "code",
        "colab": {}
      },
      "source": [
        ""
      ],
      "execution_count": 0,
      "outputs": []
    },
    {
      "cell_type": "code",
      "metadata": {
        "id": "-Rzfwgpwydhm",
        "colab_type": "code",
        "colab": {}
      },
      "source": [
        "#generator is basically a decoder which tries to generate the image\n",
        "coding_size = 100"
      ],
      "execution_count": 0,
      "outputs": []
    },
    {
      "cell_type": "code",
      "metadata": {
        "id": "-NIqhpO2ydhp",
        "colab_type": "code",
        "colab": {}
      },
      "source": [
        "generator.add(Dense(7*7*128,input_shape=[coding_size]))\n",
        "generator.add(Reshape([7,7,128]))\n",
        "generator.add(BatchNormalization())\n",
        "generator.add(Conv2DTranspose(64,kernel_size=5,strides=2,activation='relu',padding='same'))\n",
        "generator.add(BatchNormalization())\n",
        "generator.add(Conv2DTranspose(1,kernel_size=5,strides=2,activation='tanh',padding='same'))\n",
        "#the image has been decoded or deconvolution"
      ],
      "execution_count": 0,
      "outputs": []
    },
    {
      "cell_type": "code",
      "metadata": {
        "id": "EE8YOBV2ydhr",
        "colab_type": "code",
        "colab": {}
      },
      "source": [
        "#combine both the models to form the GAN"
      ],
      "execution_count": 0,
      "outputs": []
    },
    {
      "cell_type": "code",
      "metadata": {
        "id": "yWb8UgbLydht",
        "colab_type": "code",
        "colab": {}
      },
      "source": [
        "GAN = Sequential([generator,discriminator])"
      ],
      "execution_count": 0,
      "outputs": []
    },
    {
      "cell_type": "code",
      "metadata": {
        "id": "Oof3poOCydhv",
        "colab_type": "code",
        "colab": {}
      },
      "source": [
        "#the discriminator should not undergo backpropagation while training the GAN model\n",
        "discriminator.trainable = False"
      ],
      "execution_count": 0,
      "outputs": []
    },
    {
      "cell_type": "code",
      "metadata": {
        "id": "8MMjXTvpydh0",
        "colab_type": "code",
        "colab": {}
      },
      "source": [
        "GAN.compile(loss='binary_crossentropy',optimizer='adam')"
      ],
      "execution_count": 0,
      "outputs": []
    },
    {
      "cell_type": "code",
      "metadata": {
        "id": "dv2zOTbEydh2",
        "colab_type": "code",
        "colab": {
          "base_uri": "https://localhost:8080/",
          "height": 218
        },
        "outputId": "6e701f6d-0fd3-4a32-cdc0-6e9a20ef0319"
      },
      "source": [
        "GAN.summary()"
      ],
      "execution_count": 94,
      "outputs": [
        {
          "output_type": "stream",
          "text": [
            "Model: \"sequential_5\"\n",
            "_________________________________________________________________\n",
            "Layer (type)                 Output Shape              Param #   \n",
            "=================================================================\n",
            "sequential_4 (Sequential)    (None, 28, 28, 1)         840705    \n",
            "_________________________________________________________________\n",
            "sequential_3 (Sequential)    (None, 1)                 107265    \n",
            "=================================================================\n",
            "Total params: 947,970\n",
            "Trainable params: 840,321\n",
            "Non-trainable params: 107,649\n",
            "_________________________________________________________________\n"
          ],
          "name": "stdout"
        }
      ]
    },
    {
      "cell_type": "code",
      "metadata": {
        "id": "B_lS9Yl2ydh4",
        "colab_type": "code",
        "colab": {
          "base_uri": "https://localhost:8080/",
          "height": 50
        },
        "outputId": "afc96b3d-dfd5-469b-b33b-f33e8271535d"
      },
      "source": [
        "GAN.layers"
      ],
      "execution_count": 95,
      "outputs": [
        {
          "output_type": "execute_result",
          "data": {
            "text/plain": [
              "[<tensorflow.python.keras.engine.sequential.Sequential at 0x7fe37ed61a58>,\n",
              " <tensorflow.python.keras.engine.sequential.Sequential at 0x7fe37ee0c5c0>]"
            ]
          },
          "metadata": {
            "tags": []
          },
          "execution_count": 95
        }
      ]
    },
    {
      "cell_type": "code",
      "metadata": {
        "id": "zxnIoqinydh7",
        "colab_type": "code",
        "colab": {
          "base_uri": "https://localhost:8080/",
          "height": 353
        },
        "outputId": "72e6c49b-2134-437b-dc69-dde9835e1b2d"
      },
      "source": [
        "#the generator model\n",
        "GAN.layers[0].summary()"
      ],
      "execution_count": 96,
      "outputs": [
        {
          "output_type": "stream",
          "text": [
            "Model: \"sequential_4\"\n",
            "_________________________________________________________________\n",
            "Layer (type)                 Output Shape              Param #   \n",
            "=================================================================\n",
            "dense_3 (Dense)              (None, 6272)              633472    \n",
            "_________________________________________________________________\n",
            "reshape_1 (Reshape)          (None, 7, 7, 128)         0         \n",
            "_________________________________________________________________\n",
            "batch_normalization_2 (Batch (None, 7, 7, 128)         512       \n",
            "_________________________________________________________________\n",
            "conv2d_transpose_2 (Conv2DTr (None, 14, 14, 64)        204864    \n",
            "_________________________________________________________________\n",
            "batch_normalization_3 (Batch (None, 14, 14, 64)        256       \n",
            "_________________________________________________________________\n",
            "conv2d_transpose_3 (Conv2DTr (None, 28, 28, 1)         1601      \n",
            "=================================================================\n",
            "Total params: 840,705\n",
            "Trainable params: 840,321\n",
            "Non-trainable params: 384\n",
            "_________________________________________________________________\n"
          ],
          "name": "stdout"
        }
      ]
    },
    {
      "cell_type": "code",
      "metadata": {
        "id": "JtfzqLK-ydh9",
        "colab_type": "code",
        "colab": {
          "base_uri": "https://localhost:8080/",
          "height": 353
        },
        "outputId": "91e59508-4314-42fc-fe8e-5f78b5f1c279"
      },
      "source": [
        "# discriminator model\n",
        "GAN.layers[1].summary()"
      ],
      "execution_count": 97,
      "outputs": [
        {
          "output_type": "stream",
          "text": [
            "Model: \"sequential_3\"\n",
            "_________________________________________________________________\n",
            "Layer (type)                 Output Shape              Param #   \n",
            "=================================================================\n",
            "conv2d_2 (Conv2D)            (None, 14, 14, 64)        1664      \n",
            "_________________________________________________________________\n",
            "dropout_2 (Dropout)          (None, 14, 14, 64)        0         \n",
            "_________________________________________________________________\n",
            "conv2d_3 (Conv2D)            (None, 7, 7, 64)          102464    \n",
            "_________________________________________________________________\n",
            "dropout_3 (Dropout)          (None, 7, 7, 64)          0         \n",
            "_________________________________________________________________\n",
            "flatten_1 (Flatten)          (None, 3136)              0         \n",
            "_________________________________________________________________\n",
            "dense_2 (Dense)              (None, 1)                 3137      \n",
            "=================================================================\n",
            "Total params: 107,265\n",
            "Trainable params: 0\n",
            "Non-trainable params: 107,265\n",
            "_________________________________________________________________\n"
          ],
          "name": "stdout"
        }
      ]
    },
    {
      "cell_type": "code",
      "metadata": {
        "id": "4cpkP8JLydh_",
        "colab_type": "code",
        "colab": {}
      },
      "source": [
        "#using tensorflows tensor slices create the batches to train on"
      ],
      "execution_count": 0,
      "outputs": []
    },
    {
      "cell_type": "code",
      "metadata": {
        "id": "oaj-HiN7ydiB",
        "colab_type": "code",
        "colab": {}
      },
      "source": [
        "batch_size = 32"
      ],
      "execution_count": 0,
      "outputs": []
    },
    {
      "cell_type": "code",
      "metadata": {
        "id": "glmhc9LcydiH",
        "colab_type": "code",
        "colab": {}
      },
      "source": [
        "my_data = only_zeros"
      ],
      "execution_count": 0,
      "outputs": []
    },
    {
      "cell_type": "code",
      "metadata": {
        "id": "qXOxhmy8ydiK",
        "colab_type": "code",
        "colab": {}
      },
      "source": [
        "#set the shuffle method with buffer size=1000 so that it shuffles 1000 images at a time\n",
        "dataset = tf.data.Dataset.from_tensor_slices(my_data).shuffle(buffer_size=1000)"
      ],
      "execution_count": 0,
      "outputs": []
    },
    {
      "cell_type": "code",
      "metadata": {
        "id": "AkHvNdumydiO",
        "colab_type": "code",
        "colab": {
          "base_uri": "https://localhost:8080/",
          "height": 34
        },
        "outputId": "9e0d8efe-8aab-4f72-9772-b27abccc0036"
      },
      "source": [
        "type(dataset)"
      ],
      "execution_count": 102,
      "outputs": [
        {
          "output_type": "execute_result",
          "data": {
            "text/plain": [
              "tensorflow.python.data.ops.dataset_ops.ShuffleDataset"
            ]
          },
          "metadata": {
            "tags": []
          },
          "execution_count": 102
        }
      ]
    },
    {
      "cell_type": "code",
      "metadata": {
        "id": "srNY3V_dydiS",
        "colab_type": "code",
        "colab": {
          "base_uri": "https://localhost:8080/",
          "height": 34
        },
        "outputId": "dcb844ad-01fa-4cb8-cc52-4420f081f5ff"
      },
      "source": [
        "len(my_data)/batch_size"
      ],
      "execution_count": 103,
      "outputs": [
        {
          "output_type": "execute_result",
          "data": {
            "text/plain": [
              "185.09375"
            ]
          },
          "metadata": {
            "tags": []
          },
          "execution_count": 103
        }
      ]
    },
    {
      "cell_type": "code",
      "metadata": {
        "id": "itDqn9AoydiV",
        "colab_type": "code",
        "colab": {}
      },
      "source": [
        "#set drop remainder= true so that the batches are perfectly set to 185"
      ],
      "execution_count": 0,
      "outputs": []
    },
    {
      "cell_type": "code",
      "metadata": {
        "id": "PZ-BCLCvydiY",
        "colab_type": "code",
        "colab": {}
      },
      "source": [
        "dataset = dataset.batch(batch_size,drop_remainder=True)"
      ],
      "execution_count": 0,
      "outputs": []
    },
    {
      "cell_type": "code",
      "metadata": {
        "id": "29JHOtyGydib",
        "colab_type": "code",
        "colab": {
          "base_uri": "https://localhost:8080/",
          "height": 34
        },
        "outputId": "ccbf2d53-65a1-46c9-999c-a229a292f17e"
      },
      "source": [
        "dataset"
      ],
      "execution_count": 106,
      "outputs": [
        {
          "output_type": "execute_result",
          "data": {
            "text/plain": [
              "<BatchDataset shapes: (32, 28, 28, 1), types: tf.float64>"
            ]
          },
          "metadata": {
            "tags": []
          },
          "execution_count": 106
        }
      ]
    },
    {
      "cell_type": "code",
      "metadata": {
        "id": "GO0osbPpydif",
        "colab_type": "code",
        "colab": {}
      },
      "source": [
        "#create the training loop to train the discriminant first and then the generator"
      ],
      "execution_count": 0,
      "outputs": []
    },
    {
      "cell_type": "code",
      "metadata": {
        "id": "GKLGhIWdydij",
        "colab_type": "code",
        "colab": {}
      },
      "source": [
        "#The generator never actually sees any real images.\n",
        "#It learns by viewing the gradients going back through the discriminator. \n",
        "#The better the discrimnator gets through training, the more information the discriminator contains in its gradients, which means the generator can being to make progress in learning how to generate fake images, in our case, fake zeros."
      ],
      "execution_count": 0,
      "outputs": []
    },
    {
      "cell_type": "code",
      "metadata": {
        "id": "Cc7SmgJKydim",
        "colab_type": "code",
        "colab": {}
      },
      "source": [
        "generator,discriminator = GAN.layers"
      ],
      "execution_count": 0,
      "outputs": []
    },
    {
      "cell_type": "code",
      "metadata": {
        "id": "GwE7Pcd8ydip",
        "colab_type": "code",
        "colab": {}
      },
      "source": [
        "epochs= 20"
      ],
      "execution_count": 0,
      "outputs": []
    },
    {
      "cell_type": "code",
      "metadata": {
        "id": "k4CJJ9Nxydir",
        "colab_type": "code",
        "colab": {
          "base_uri": "https://localhost:8080/",
          "height": 1000
        },
        "outputId": "c5db1f25-d07f-4cb7-91f9-9842d065e453"
      },
      "source": [
        "#set the labels for the discrimanator where the gen_image is 0 and real images is 1 for batch size=32\n",
        "[[0.]] * batch_size + [[1.]] * batch_size"
      ],
      "execution_count": 111,
      "outputs": [
        {
          "output_type": "execute_result",
          "data": {
            "text/plain": [
              "[[0.0],\n",
              " [0.0],\n",
              " [0.0],\n",
              " [0.0],\n",
              " [0.0],\n",
              " [0.0],\n",
              " [0.0],\n",
              " [0.0],\n",
              " [0.0],\n",
              " [0.0],\n",
              " [0.0],\n",
              " [0.0],\n",
              " [0.0],\n",
              " [0.0],\n",
              " [0.0],\n",
              " [0.0],\n",
              " [0.0],\n",
              " [0.0],\n",
              " [0.0],\n",
              " [0.0],\n",
              " [0.0],\n",
              " [0.0],\n",
              " [0.0],\n",
              " [0.0],\n",
              " [0.0],\n",
              " [0.0],\n",
              " [0.0],\n",
              " [0.0],\n",
              " [0.0],\n",
              " [0.0],\n",
              " [0.0],\n",
              " [0.0],\n",
              " [1.0],\n",
              " [1.0],\n",
              " [1.0],\n",
              " [1.0],\n",
              " [1.0],\n",
              " [1.0],\n",
              " [1.0],\n",
              " [1.0],\n",
              " [1.0],\n",
              " [1.0],\n",
              " [1.0],\n",
              " [1.0],\n",
              " [1.0],\n",
              " [1.0],\n",
              " [1.0],\n",
              " [1.0],\n",
              " [1.0],\n",
              " [1.0],\n",
              " [1.0],\n",
              " [1.0],\n",
              " [1.0],\n",
              " [1.0],\n",
              " [1.0],\n",
              " [1.0],\n",
              " [1.0],\n",
              " [1.0],\n",
              " [1.0],\n",
              " [1.0],\n",
              " [1.0],\n",
              " [1.0],\n",
              " [1.0],\n",
              " [1.0]]"
            ]
          },
          "metadata": {
            "tags": []
          },
          "execution_count": 111
        }
      ]
    },
    {
      "cell_type": "code",
      "metadata": {
        "id": "d6NCn7AVydit",
        "colab_type": "code",
        "colab": {}
      },
      "source": [
        ""
      ],
      "execution_count": 0,
      "outputs": []
    },
    {
      "cell_type": "code",
      "metadata": {
        "id": "izqGKwZzydiu",
        "colab_type": "code",
        "colab": {
          "base_uri": "https://localhost:8080/",
          "height": 1000
        },
        "outputId": "47afa21b-354d-41f3-8c6e-5a83ec415da8"
      },
      "source": [
        "for epoch in range(epochs):\n",
        "    print(f\"currently on epoch:{epoch+1}\")\n",
        "    i = 0\n",
        "    for X_batch in dataset:\n",
        "        i=i+1\n",
        "        if i%10 == 0:\n",
        "            print(f\"\\tCurrently on batch number {i} of {len(my_data)//batch_size}\")\n",
        "        #####################################\n",
        "        ## TRAINING THE DISCRIMINATOR ######\n",
        "        ###################################\n",
        "        \n",
        "        # Create Noise\n",
        "        noise = tf.random.normal(shape=[batch_size, coding_size])\n",
        "        \n",
        "        # Generate numbers based just on noise input\n",
        "        gen_images = generator(noise)\n",
        "        \n",
        "        # Concatenate Generated Images against the Real Ones\n",
        "        # TO use tf.concat, the data types must match!\n",
        "        X_fake_vs_real = tf.concat([gen_images, tf.dtypes.cast(X_batch,tf.float32)], axis=0)\n",
        "        \n",
        "        # Targets set to zero for fake images and 1 for real images\n",
        "        y1 = tf.constant([[0.]] * batch_size + [[1.]] * batch_size)\n",
        "        \n",
        "        # This gets rid of a Keras warning\n",
        "        discriminator.trainable = True\n",
        "        \n",
        "        # Train the discriminator on this batch\n",
        "        discriminator.train_on_batch(X_fake_vs_real, y1)\n",
        "        \n",
        "        \n",
        "        #####################################\n",
        "        ## TRAINING THE GENERATOR     ######\n",
        "        ###################################\n",
        "        \n",
        "        # Create some noise\n",
        "        noise = tf.random.normal(shape=[batch_size, coding_size])\n",
        "        \n",
        "        # We want discriminator to belive that fake images are real\n",
        "        y2 = tf.constant([[1.]] * batch_size)\n",
        "        \n",
        "        # Avois a warning\n",
        "        discriminator.trainable = False\n",
        "        \n",
        "        GAN.train_on_batch(noise, y2)\n",
        "        \n",
        "print(\"TRAINING COMPLETE\")"
      ],
      "execution_count": 112,
      "outputs": [
        {
          "output_type": "stream",
          "text": [
            "currently on epoch:1\n",
            "\tCurrently on batch number 10 of 185\n",
            "\tCurrently on batch number 20 of 185\n",
            "\tCurrently on batch number 30 of 185\n",
            "\tCurrently on batch number 40 of 185\n",
            "\tCurrently on batch number 50 of 185\n",
            "\tCurrently on batch number 60 of 185\n",
            "\tCurrently on batch number 70 of 185\n",
            "\tCurrently on batch number 80 of 185\n",
            "\tCurrently on batch number 90 of 185\n",
            "\tCurrently on batch number 100 of 185\n",
            "\tCurrently on batch number 110 of 185\n",
            "\tCurrently on batch number 120 of 185\n",
            "\tCurrently on batch number 130 of 185\n",
            "\tCurrently on batch number 140 of 185\n",
            "\tCurrently on batch number 150 of 185\n",
            "\tCurrently on batch number 160 of 185\n",
            "\tCurrently on batch number 170 of 185\n",
            "\tCurrently on batch number 180 of 185\n",
            "currently on epoch:2\n",
            "\tCurrently on batch number 10 of 185\n",
            "\tCurrently on batch number 20 of 185\n",
            "\tCurrently on batch number 30 of 185\n",
            "\tCurrently on batch number 40 of 185\n",
            "\tCurrently on batch number 50 of 185\n",
            "\tCurrently on batch number 60 of 185\n",
            "\tCurrently on batch number 70 of 185\n",
            "\tCurrently on batch number 80 of 185\n",
            "\tCurrently on batch number 90 of 185\n",
            "\tCurrently on batch number 100 of 185\n",
            "\tCurrently on batch number 110 of 185\n",
            "\tCurrently on batch number 120 of 185\n",
            "\tCurrently on batch number 130 of 185\n",
            "\tCurrently on batch number 140 of 185\n",
            "\tCurrently on batch number 150 of 185\n",
            "\tCurrently on batch number 160 of 185\n",
            "\tCurrently on batch number 170 of 185\n",
            "\tCurrently on batch number 180 of 185\n",
            "currently on epoch:3\n",
            "\tCurrently on batch number 10 of 185\n",
            "\tCurrently on batch number 20 of 185\n",
            "\tCurrently on batch number 30 of 185\n",
            "\tCurrently on batch number 40 of 185\n",
            "\tCurrently on batch number 50 of 185\n",
            "\tCurrently on batch number 60 of 185\n",
            "\tCurrently on batch number 70 of 185\n",
            "\tCurrently on batch number 80 of 185\n",
            "\tCurrently on batch number 90 of 185\n",
            "\tCurrently on batch number 100 of 185\n",
            "\tCurrently on batch number 110 of 185\n",
            "\tCurrently on batch number 120 of 185\n",
            "\tCurrently on batch number 130 of 185\n",
            "\tCurrently on batch number 140 of 185\n",
            "\tCurrently on batch number 150 of 185\n",
            "\tCurrently on batch number 160 of 185\n",
            "\tCurrently on batch number 170 of 185\n",
            "\tCurrently on batch number 180 of 185\n",
            "currently on epoch:4\n",
            "\tCurrently on batch number 10 of 185\n",
            "\tCurrently on batch number 20 of 185\n",
            "\tCurrently on batch number 30 of 185\n",
            "\tCurrently on batch number 40 of 185\n",
            "\tCurrently on batch number 50 of 185\n",
            "\tCurrently on batch number 60 of 185\n",
            "\tCurrently on batch number 70 of 185\n",
            "\tCurrently on batch number 80 of 185\n",
            "\tCurrently on batch number 90 of 185\n",
            "\tCurrently on batch number 100 of 185\n",
            "\tCurrently on batch number 110 of 185\n",
            "\tCurrently on batch number 120 of 185\n",
            "\tCurrently on batch number 130 of 185\n",
            "\tCurrently on batch number 140 of 185\n",
            "\tCurrently on batch number 150 of 185\n",
            "\tCurrently on batch number 160 of 185\n",
            "\tCurrently on batch number 170 of 185\n",
            "\tCurrently on batch number 180 of 185\n",
            "currently on epoch:5\n",
            "\tCurrently on batch number 10 of 185\n",
            "\tCurrently on batch number 20 of 185\n",
            "\tCurrently on batch number 30 of 185\n",
            "\tCurrently on batch number 40 of 185\n",
            "\tCurrently on batch number 50 of 185\n",
            "\tCurrently on batch number 60 of 185\n",
            "\tCurrently on batch number 70 of 185\n",
            "\tCurrently on batch number 80 of 185\n",
            "\tCurrently on batch number 90 of 185\n",
            "\tCurrently on batch number 100 of 185\n",
            "\tCurrently on batch number 110 of 185\n",
            "\tCurrently on batch number 120 of 185\n",
            "\tCurrently on batch number 130 of 185\n",
            "\tCurrently on batch number 140 of 185\n",
            "\tCurrently on batch number 150 of 185\n",
            "\tCurrently on batch number 160 of 185\n",
            "\tCurrently on batch number 170 of 185\n",
            "\tCurrently on batch number 180 of 185\n",
            "currently on epoch:6\n",
            "\tCurrently on batch number 10 of 185\n",
            "\tCurrently on batch number 20 of 185\n",
            "\tCurrently on batch number 30 of 185\n",
            "\tCurrently on batch number 40 of 185\n",
            "\tCurrently on batch number 50 of 185\n",
            "\tCurrently on batch number 60 of 185\n",
            "\tCurrently on batch number 70 of 185\n",
            "\tCurrently on batch number 80 of 185\n",
            "\tCurrently on batch number 90 of 185\n",
            "\tCurrently on batch number 100 of 185\n",
            "\tCurrently on batch number 110 of 185\n",
            "\tCurrently on batch number 120 of 185\n",
            "\tCurrently on batch number 130 of 185\n",
            "\tCurrently on batch number 140 of 185\n",
            "\tCurrently on batch number 150 of 185\n",
            "\tCurrently on batch number 160 of 185\n",
            "\tCurrently on batch number 170 of 185\n",
            "\tCurrently on batch number 180 of 185\n",
            "currently on epoch:7\n",
            "\tCurrently on batch number 10 of 185\n",
            "\tCurrently on batch number 20 of 185\n",
            "\tCurrently on batch number 30 of 185\n",
            "\tCurrently on batch number 40 of 185\n",
            "\tCurrently on batch number 50 of 185\n",
            "\tCurrently on batch number 60 of 185\n",
            "\tCurrently on batch number 70 of 185\n",
            "\tCurrently on batch number 80 of 185\n",
            "\tCurrently on batch number 90 of 185\n",
            "\tCurrently on batch number 100 of 185\n",
            "\tCurrently on batch number 110 of 185\n",
            "\tCurrently on batch number 120 of 185\n",
            "\tCurrently on batch number 130 of 185\n",
            "\tCurrently on batch number 140 of 185\n",
            "\tCurrently on batch number 150 of 185\n",
            "\tCurrently on batch number 160 of 185\n",
            "\tCurrently on batch number 170 of 185\n",
            "\tCurrently on batch number 180 of 185\n",
            "currently on epoch:8\n",
            "\tCurrently on batch number 10 of 185\n",
            "\tCurrently on batch number 20 of 185\n",
            "\tCurrently on batch number 30 of 185\n",
            "\tCurrently on batch number 40 of 185\n",
            "\tCurrently on batch number 50 of 185\n",
            "\tCurrently on batch number 60 of 185\n",
            "\tCurrently on batch number 70 of 185\n",
            "\tCurrently on batch number 80 of 185\n",
            "\tCurrently on batch number 90 of 185\n",
            "\tCurrently on batch number 100 of 185\n",
            "\tCurrently on batch number 110 of 185\n",
            "\tCurrently on batch number 120 of 185\n",
            "\tCurrently on batch number 130 of 185\n",
            "\tCurrently on batch number 140 of 185\n",
            "\tCurrently on batch number 150 of 185\n",
            "\tCurrently on batch number 160 of 185\n",
            "\tCurrently on batch number 170 of 185\n",
            "\tCurrently on batch number 180 of 185\n",
            "currently on epoch:9\n",
            "\tCurrently on batch number 10 of 185\n",
            "\tCurrently on batch number 20 of 185\n",
            "\tCurrently on batch number 30 of 185\n",
            "\tCurrently on batch number 40 of 185\n",
            "\tCurrently on batch number 50 of 185\n",
            "\tCurrently on batch number 60 of 185\n",
            "\tCurrently on batch number 70 of 185\n",
            "\tCurrently on batch number 80 of 185\n",
            "\tCurrently on batch number 90 of 185\n",
            "\tCurrently on batch number 100 of 185\n",
            "\tCurrently on batch number 110 of 185\n",
            "\tCurrently on batch number 120 of 185\n",
            "\tCurrently on batch number 130 of 185\n",
            "\tCurrently on batch number 140 of 185\n",
            "\tCurrently on batch number 150 of 185\n",
            "\tCurrently on batch number 160 of 185\n",
            "\tCurrently on batch number 170 of 185\n",
            "\tCurrently on batch number 180 of 185\n",
            "currently on epoch:10\n",
            "\tCurrently on batch number 10 of 185\n",
            "\tCurrently on batch number 20 of 185\n",
            "\tCurrently on batch number 30 of 185\n",
            "\tCurrently on batch number 40 of 185\n",
            "\tCurrently on batch number 50 of 185\n",
            "\tCurrently on batch number 60 of 185\n",
            "\tCurrently on batch number 70 of 185\n",
            "\tCurrently on batch number 80 of 185\n",
            "\tCurrently on batch number 90 of 185\n",
            "\tCurrently on batch number 100 of 185\n",
            "\tCurrently on batch number 110 of 185\n",
            "\tCurrently on batch number 120 of 185\n",
            "\tCurrently on batch number 130 of 185\n",
            "\tCurrently on batch number 140 of 185\n",
            "\tCurrently on batch number 150 of 185\n",
            "\tCurrently on batch number 160 of 185\n",
            "\tCurrently on batch number 170 of 185\n",
            "\tCurrently on batch number 180 of 185\n",
            "currently on epoch:11\n",
            "\tCurrently on batch number 10 of 185\n",
            "\tCurrently on batch number 20 of 185\n",
            "\tCurrently on batch number 30 of 185\n",
            "\tCurrently on batch number 40 of 185\n",
            "\tCurrently on batch number 50 of 185\n",
            "\tCurrently on batch number 60 of 185\n",
            "\tCurrently on batch number 70 of 185\n",
            "\tCurrently on batch number 80 of 185\n",
            "\tCurrently on batch number 90 of 185\n",
            "\tCurrently on batch number 100 of 185\n",
            "\tCurrently on batch number 110 of 185\n",
            "\tCurrently on batch number 120 of 185\n",
            "\tCurrently on batch number 130 of 185\n",
            "\tCurrently on batch number 140 of 185\n",
            "\tCurrently on batch number 150 of 185\n",
            "\tCurrently on batch number 160 of 185\n",
            "\tCurrently on batch number 170 of 185\n",
            "\tCurrently on batch number 180 of 185\n",
            "currently on epoch:12\n",
            "\tCurrently on batch number 10 of 185\n",
            "\tCurrently on batch number 20 of 185\n",
            "\tCurrently on batch number 30 of 185\n",
            "\tCurrently on batch number 40 of 185\n",
            "\tCurrently on batch number 50 of 185\n",
            "\tCurrently on batch number 60 of 185\n",
            "\tCurrently on batch number 70 of 185\n",
            "\tCurrently on batch number 80 of 185\n",
            "\tCurrently on batch number 90 of 185\n",
            "\tCurrently on batch number 100 of 185\n",
            "\tCurrently on batch number 110 of 185\n",
            "\tCurrently on batch number 120 of 185\n",
            "\tCurrently on batch number 130 of 185\n",
            "\tCurrently on batch number 140 of 185\n",
            "\tCurrently on batch number 150 of 185\n",
            "\tCurrently on batch number 160 of 185\n",
            "\tCurrently on batch number 170 of 185\n",
            "\tCurrently on batch number 180 of 185\n",
            "currently on epoch:13\n",
            "\tCurrently on batch number 10 of 185\n",
            "\tCurrently on batch number 20 of 185\n",
            "\tCurrently on batch number 30 of 185\n",
            "\tCurrently on batch number 40 of 185\n",
            "\tCurrently on batch number 50 of 185\n",
            "\tCurrently on batch number 60 of 185\n",
            "\tCurrently on batch number 70 of 185\n",
            "\tCurrently on batch number 80 of 185\n",
            "\tCurrently on batch number 90 of 185\n",
            "\tCurrently on batch number 100 of 185\n",
            "\tCurrently on batch number 110 of 185\n",
            "\tCurrently on batch number 120 of 185\n",
            "\tCurrently on batch number 130 of 185\n",
            "\tCurrently on batch number 140 of 185\n",
            "\tCurrently on batch number 150 of 185\n",
            "\tCurrently on batch number 160 of 185\n",
            "\tCurrently on batch number 170 of 185\n",
            "\tCurrently on batch number 180 of 185\n",
            "currently on epoch:14\n",
            "\tCurrently on batch number 10 of 185\n",
            "\tCurrently on batch number 20 of 185\n",
            "\tCurrently on batch number 30 of 185\n",
            "\tCurrently on batch number 40 of 185\n",
            "\tCurrently on batch number 50 of 185\n",
            "\tCurrently on batch number 60 of 185\n",
            "\tCurrently on batch number 70 of 185\n",
            "\tCurrently on batch number 80 of 185\n",
            "\tCurrently on batch number 90 of 185\n",
            "\tCurrently on batch number 100 of 185\n",
            "\tCurrently on batch number 110 of 185\n",
            "\tCurrently on batch number 120 of 185\n",
            "\tCurrently on batch number 130 of 185\n",
            "\tCurrently on batch number 140 of 185\n",
            "\tCurrently on batch number 150 of 185\n",
            "\tCurrently on batch number 160 of 185\n",
            "\tCurrently on batch number 170 of 185\n",
            "\tCurrently on batch number 180 of 185\n",
            "currently on epoch:15\n",
            "\tCurrently on batch number 10 of 185\n",
            "\tCurrently on batch number 20 of 185\n",
            "\tCurrently on batch number 30 of 185\n",
            "\tCurrently on batch number 40 of 185\n",
            "\tCurrently on batch number 50 of 185\n",
            "\tCurrently on batch number 60 of 185\n",
            "\tCurrently on batch number 70 of 185\n",
            "\tCurrently on batch number 80 of 185\n",
            "\tCurrently on batch number 90 of 185\n",
            "\tCurrently on batch number 100 of 185\n",
            "\tCurrently on batch number 110 of 185\n",
            "\tCurrently on batch number 120 of 185\n",
            "\tCurrently on batch number 130 of 185\n",
            "\tCurrently on batch number 140 of 185\n",
            "\tCurrently on batch number 150 of 185\n",
            "\tCurrently on batch number 160 of 185\n",
            "\tCurrently on batch number 170 of 185\n",
            "\tCurrently on batch number 180 of 185\n",
            "currently on epoch:16\n",
            "\tCurrently on batch number 10 of 185\n",
            "\tCurrently on batch number 20 of 185\n",
            "\tCurrently on batch number 30 of 185\n",
            "\tCurrently on batch number 40 of 185\n",
            "\tCurrently on batch number 50 of 185\n",
            "\tCurrently on batch number 60 of 185\n",
            "\tCurrently on batch number 70 of 185\n",
            "\tCurrently on batch number 80 of 185\n",
            "\tCurrently on batch number 90 of 185\n",
            "\tCurrently on batch number 100 of 185\n",
            "\tCurrently on batch number 110 of 185\n",
            "\tCurrently on batch number 120 of 185\n",
            "\tCurrently on batch number 130 of 185\n",
            "\tCurrently on batch number 140 of 185\n",
            "\tCurrently on batch number 150 of 185\n",
            "\tCurrently on batch number 160 of 185\n",
            "\tCurrently on batch number 170 of 185\n",
            "\tCurrently on batch number 180 of 185\n",
            "currently on epoch:17\n",
            "\tCurrently on batch number 10 of 185\n",
            "\tCurrently on batch number 20 of 185\n",
            "\tCurrently on batch number 30 of 185\n",
            "\tCurrently on batch number 40 of 185\n",
            "\tCurrently on batch number 50 of 185\n",
            "\tCurrently on batch number 60 of 185\n",
            "\tCurrently on batch number 70 of 185\n",
            "\tCurrently on batch number 80 of 185\n",
            "\tCurrently on batch number 90 of 185\n",
            "\tCurrently on batch number 100 of 185\n",
            "\tCurrently on batch number 110 of 185\n",
            "\tCurrently on batch number 120 of 185\n",
            "\tCurrently on batch number 130 of 185\n",
            "\tCurrently on batch number 140 of 185\n",
            "\tCurrently on batch number 150 of 185\n",
            "\tCurrently on batch number 160 of 185\n",
            "\tCurrently on batch number 170 of 185\n",
            "\tCurrently on batch number 180 of 185\n",
            "currently on epoch:18\n",
            "\tCurrently on batch number 10 of 185\n",
            "\tCurrently on batch number 20 of 185\n",
            "\tCurrently on batch number 30 of 185\n",
            "\tCurrently on batch number 40 of 185\n",
            "\tCurrently on batch number 50 of 185\n",
            "\tCurrently on batch number 60 of 185\n",
            "\tCurrently on batch number 70 of 185\n",
            "\tCurrently on batch number 80 of 185\n",
            "\tCurrently on batch number 90 of 185\n",
            "\tCurrently on batch number 100 of 185\n",
            "\tCurrently on batch number 110 of 185\n",
            "\tCurrently on batch number 120 of 185\n",
            "\tCurrently on batch number 130 of 185\n",
            "\tCurrently on batch number 140 of 185\n",
            "\tCurrently on batch number 150 of 185\n",
            "\tCurrently on batch number 160 of 185\n",
            "\tCurrently on batch number 170 of 185\n",
            "\tCurrently on batch number 180 of 185\n",
            "currently on epoch:19\n",
            "\tCurrently on batch number 10 of 185\n",
            "\tCurrently on batch number 20 of 185\n",
            "\tCurrently on batch number 30 of 185\n",
            "\tCurrently on batch number 40 of 185\n",
            "\tCurrently on batch number 50 of 185\n",
            "\tCurrently on batch number 60 of 185\n",
            "\tCurrently on batch number 70 of 185\n",
            "\tCurrently on batch number 80 of 185\n",
            "\tCurrently on batch number 90 of 185\n",
            "\tCurrently on batch number 100 of 185\n",
            "\tCurrently on batch number 110 of 185\n",
            "\tCurrently on batch number 120 of 185\n",
            "\tCurrently on batch number 130 of 185\n",
            "\tCurrently on batch number 140 of 185\n",
            "\tCurrently on batch number 150 of 185\n",
            "\tCurrently on batch number 160 of 185\n",
            "\tCurrently on batch number 170 of 185\n",
            "\tCurrently on batch number 180 of 185\n",
            "currently on epoch:20\n",
            "\tCurrently on batch number 10 of 185\n",
            "\tCurrently on batch number 20 of 185\n",
            "\tCurrently on batch number 30 of 185\n",
            "\tCurrently on batch number 40 of 185\n",
            "\tCurrently on batch number 50 of 185\n",
            "\tCurrently on batch number 60 of 185\n",
            "\tCurrently on batch number 70 of 185\n",
            "\tCurrently on batch number 80 of 185\n",
            "\tCurrently on batch number 90 of 185\n",
            "\tCurrently on batch number 100 of 185\n",
            "\tCurrently on batch number 110 of 185\n",
            "\tCurrently on batch number 120 of 185\n",
            "\tCurrently on batch number 130 of 185\n",
            "\tCurrently on batch number 140 of 185\n",
            "\tCurrently on batch number 150 of 185\n",
            "\tCurrently on batch number 160 of 185\n",
            "\tCurrently on batch number 170 of 185\n",
            "\tCurrently on batch number 180 of 185\n",
            "TRAINING COMPLETE\n"
          ],
          "name": "stdout"
        }
      ]
    },
    {
      "cell_type": "code",
      "metadata": {
        "id": "nalMYEEeydiw",
        "colab_type": "code",
        "colab": {}
      },
      "source": [
        "#lets generate some new zeros"
      ],
      "execution_count": 0,
      "outputs": []
    },
    {
      "cell_type": "code",
      "metadata": {
        "id": "cZiDPH1Eydi1",
        "colab_type": "code",
        "colab": {}
      },
      "source": [
        "#first create some noise to start of with"
      ],
      "execution_count": 0,
      "outputs": []
    },
    {
      "cell_type": "code",
      "metadata": {
        "id": "R7dyZgoJydi5",
        "colab_type": "code",
        "colab": {}
      },
      "source": [
        "noise = tf.random.normal(shape=[10,coding_size])"
      ],
      "execution_count": 0,
      "outputs": []
    },
    {
      "cell_type": "code",
      "metadata": {
        "id": "J-l7mZX7ydi8",
        "colab_type": "code",
        "colab": {
          "base_uri": "https://localhost:8080/",
          "height": 34
        },
        "outputId": "ea59d0b8-1093-4889-da0d-2a45be244fa9"
      },
      "source": [
        "#should be the same shape of generator (none,100)\n",
        "noise.shape"
      ],
      "execution_count": 116,
      "outputs": [
        {
          "output_type": "execute_result",
          "data": {
            "text/plain": [
              "TensorShape([10, 100])"
            ]
          },
          "metadata": {
            "tags": []
          },
          "execution_count": 116
        }
      ]
    },
    {
      "cell_type": "code",
      "metadata": {
        "id": "Y14_J6ADydi-",
        "colab_type": "code",
        "colab": {
          "base_uri": "https://localhost:8080/",
          "height": 101
        },
        "outputId": "409f8267-7b13-4442-c3f6-2df4d40841b5"
      },
      "source": [
        "plt.imshow(noise)"
      ],
      "execution_count": 117,
      "outputs": [
        {
          "output_type": "execute_result",
          "data": {
            "text/plain": [
              "<matplotlib.image.AxesImage at 0x7fe37dab6278>"
            ]
          },
          "metadata": {
            "tags": []
          },
          "execution_count": 117
        },
        {
          "output_type": "display_data",
          "data": {
            "image/png": "[encoded data removed]",
            "text/plain": [
              "<Figure size 432x288 with 1 Axes>"
            ]
          },
          "metadata": {
            "tags": [],
            "needs_background": "light"
          }
        }
      ]
    },
    {
      "cell_type": "code",
      "metadata": {
        "id": "h6Doe_69ydjD",
        "colab_type": "code",
        "colab": {}
      },
      "source": [
        "new_img = generator(noise)"
      ],
      "execution_count": 0,
      "outputs": []
    },
    {
      "cell_type": "code",
      "metadata": {
        "id": "gWeVyuwUydjE",
        "colab_type": "code",
        "colab": {}
      },
      "source": [
        "nimg = new_img[0].numpy().reshape(28,28)"
      ],
      "execution_count": 0,
      "outputs": []
    },
    {
      "cell_type": "code",
      "metadata": {
        "id": "VBspguTuydjH",
        "colab_type": "code",
        "colab": {}
      },
      "source": [
        "#the generator has generated 10 new images"
      ],
      "execution_count": 0,
      "outputs": []
    },
    {
      "cell_type": "code",
      "metadata": {
        "id": "smhSpCvwydjJ",
        "colab_type": "code",
        "colab": {
          "base_uri": "https://localhost:8080/",
          "height": 282
        },
        "outputId": "df4de854-925c-4773-f279-9b82ef50325e"
      },
      "source": [
        "plt.imshow(nimg)"
      ],
      "execution_count": 121,
      "outputs": [
        {
          "output_type": "execute_result",
          "data": {
            "text/plain": [
              "<matplotlib.image.AxesImage at 0x7fe37da026a0>"
            ]
          },
          "metadata": {
            "tags": []
          },
          "execution_count": 121
        },
        {
          "output_type": "display_data",
          "data": {
            "image/png": "[encoded data removed]",
            "text/plain": [
              "<Figure size 432x288 with 1 Axes>"
            ]
          },
          "metadata": {
            "tags": [],
            "needs_background": "light"
          }
        }
      ]
    },
    {
      "cell_type": "code",
      "metadata": {
        "id": "0Kvfr___ydjL",
        "colab_type": "code",
        "colab": {
          "base_uri": "https://localhost:8080/",
          "height": 34
        },
        "outputId": "db7c9c59-2eca-4328-c9db-573f19ab7ba0"
      },
      "source": [
        "new_img.shape"
      ],
      "execution_count": 122,
      "outputs": [
        {
          "output_type": "execute_result",
          "data": {
            "text/plain": [
              "TensorShape([10, 28, 28, 1])"
            ]
          },
          "metadata": {
            "tags": []
          },
          "execution_count": 122
        }
      ]
    },
    {
      "cell_type": "code",
      "metadata": {
        "id": "IeqsQSWtydjN",
        "colab_type": "code",
        "colab": {
          "base_uri": "https://localhost:8080/",
          "height": 1000
        },
        "outputId": "8af5ba19-02bd-4730-8d13-7c464ee9c69d"
      },
      "source": [
        "for image in new_img:\n",
        "  plt.imshow(image.numpy().reshape(28,28))\n",
        "  plt.show()"
      ],
      "execution_count": 123,
      "outputs": [
        {
          "output_type": "display_data",
          "data": {
            "image/png": "[encoded data removed]",
            "text/plain": [
              "<Figure size 432x288 with 1 Axes>"
            ]
          },
          "metadata": {
            "tags": [],
            "needs_background": "light"
          }
        },
        {
          "output_type": "display_data",
          "data": {
            "image/png": "[encoded data removed]",
            "text/plain": [
              "<Figure size 432x288 with 1 Axes>"
            ]
          },
          "metadata": {
            "tags": [],
            "needs_background": "light"
          }
        },
        {
          "output_type": "display_data",
          "data": {
            "image/png": "[encoded data removed]",
            "text/plain": [
              "<Figure size 432x288 with 1 Axes>"
            ]
          },
          "metadata": {
            "tags": [],
            "needs_background": "light"
          }
        },
        {
          "output_type": "display_data",
          "data": {
            "image/png": "[encoded data removed]",
            "text/plain": [
              "<Figure size 432x288 with 1 Axes>"
            ]
          },
          "metadata": {
            "tags": [],
            "needs_background": "light"
          }
        },
        {
          "output_type": "display_data",
          "data": {
            "image/png": "[encoded data removed]",
            "text/plain": [
              "<Figure size 432x288 with 1 Axes>"
            ]
          },
          "metadata": {
            "tags": [],
            "needs_background": "light"
          }
        },
        {
          "output_type": "display_data",
          "data": {
            "image/png": "[encoded data removed]",
            "text/plain": [
              "<Figure size 432x288 with 1 Axes>"
            ]
          },
          "metadata": {
            "tags": [],
            "needs_background": "light"
          }
        },
        {
          "output_type": "display_data",
          "data": {
            "image/png": "[encoded data removed]",
            "text/plain": [
              "<Figure size 432x288 with 1 Axes>"
            ]
          },
          "metadata": {
            "tags": [],
            "needs_background": "light"
          }
        },
        {
          "output_type": "display_data",
          "data": {
            "image/png": "[encoded data removed]",
            "text/plain": [
              "<Figure size 432x288 with 1 Axes>"
            ]
          },
          "metadata": {
            "tags": [],
            "needs_background": "light"
          }
        },
        {
          "output_type": "display_data",
          "data": {
            "image/png": "[encoded data removed]",
            "text/plain": [
              "<Figure size 432x288 with 1 Axes>"
            ]
          },
          "metadata": {
            "tags": [],
            "needs_background": "light"
          }
        },
        {
          "output_type": "display_data",
          "data": {
            "image/png": "[encoded data removed]",
            "text/plain": [
              "<Figure size 432x288 with 1 Axes>"
            ]
          },
          "metadata": {
            "tags": [],
            "needs_background": "light"
          }
        }
      ]
    },
    {
      "cell_type": "code",
      "metadata": {
        "id": "BkW7vUtp0PkJ",
        "colab_type": "code",
        "colab": {}
      },
      "source": [
        "# the deep convolutional gans overcome mode collapse and produce different images just based off the gradient from the discriminator"
      ],
      "execution_count": 0,
      "outputs": []
    },
    {
      "cell_type": "code",
      "metadata": {
        "id": "QSetliWC2p-f",
        "colab_type": "code",
        "colab": {}
      },
      "source": [
        "GAN.save('dcgan.h5')"
      ],
      "execution_count": 0,
      "outputs": []
    },
    {
      "cell_type": "code",
      "metadata": {
        "id": "EiIu10EW2tXA",
        "colab_type": "code",
        "colab": {}
      },
      "source": [
        ""
      ],
      "execution_count": 0,
      "outputs": []
    }
  ]
}